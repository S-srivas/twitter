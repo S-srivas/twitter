{
 "cells": [
  {
   "cell_type": "code",
   "execution_count": 7,
   "metadata": {},
   "outputs": [],
   "source": [
    "# Importation\n",
    "# Tutorial Link: https://benalexkeen.com/resampling-time-series-data-with-pandas/\n",
    "import pandas as pd\n",
    "import numpy as np\n",
    "import matplotlib.pyplot as plt\n",
    "%matplotlib inline"
   ]
  },
  {
   "cell_type": "code",
   "execution_count": 8,
   "metadata": {},
   "outputs": [],
   "source": [
    "# Create a datafrome with columns\n",
    "range = pd.date_range('2015-01-01', '2015-12-31', freq='15min')\n",
    "df = pd.DataFrame(index = range)\n",
    "\n",
    "# Average speed in miles per hour\n",
    "df['speed'] = np.random.randint(low=0, high=60, size=len(df.index))\n",
    "# Distance in miles (speed * 0.5 hours)\n",
    "df['distance'] = df['speed'] * 0.25 \n",
    "# Cumulative(Total) distance travelled\n",
    "df['cumulative_distance'] = df.distance.cumsum()"
   ]
  },
  {
   "cell_type": "code",
   "execution_count": 9,
   "metadata": {
    "scrolled": true
   },
   "outputs": [
    {
     "data": {
      "image/png": "[encoded data removed]",
      "text/plain": [
       "<matplotlib.figure.Figure at 0x1078999cba8>"
      ]
     },
     "metadata": {},
     "output_type": "display_data"
    }
   ],
   "source": [
    "# Plotting the df by color\n",
    "fig, ax1 = plt.subplots()\n",
    "\n",
    "ax2 = ax1.twinx()\n",
    "ax1.plot(df.index, df['speed'], 'g-')\n",
    "ax2.plot(df.index, df['distance'], 'b-')\n",
    "\n",
    "ax1.set_xlabel('Date')\n",
    "ax1.set_ylabel('Speed', color='g')\n",
    "ax2.set_ylabel('Distance', color='b')\n",
    "\n",
    "\n",
    "plt.show()\n",
    "plt.rcParams['figure.figsize'] = 12,5"
   ]
  },
  {
   "cell_type": "code",
   "execution_count": 10,
   "metadata": {
    "scrolled": true
   },
   "outputs": [
    {
     "data": {
      "text/html": [
       "<div>\n",
       "<style scoped>\n",
       "    .dataframe tbody tr th:only-of-type {\n",
       "        vertical-align: middle;\n",
       "    }\n",
       "\n",
       "    .dataframe tbody tr th {\n",
       "        vertical-align: top;\n",
       "    }\n",
       "\n",
       "    .dataframe thead th {\n",
       "        text-align: right;\n",
       "    }\n",
       "</style>\n",
       "<table border=\"1\" class=\"dataframe\">\n",
       "  <thead>\n",
       "    <tr style=\"text-align: right;\">\n",
       "      <th></th>\n",
       "      <th>speed</th>\n",
       "      <th>distance</th>\n",
       "      <th>cumulative_distance</th>\n",
       "    </tr>\n",
       "  </thead>\n",
       "  <tbody>\n",
       "    <tr>\n",
       "      <th>2015-01-31</th>\n",
       "      <td>29.549059</td>\n",
       "      <td>21984.50</td>\n",
       "      <td>21984.50</td>\n",
       "    </tr>\n",
       "    <tr>\n",
       "      <th>2015-02-28</th>\n",
       "      <td>29.928943</td>\n",
       "      <td>20112.25</td>\n",
       "      <td>42096.75</td>\n",
       "    </tr>\n",
       "    <tr>\n",
       "      <th>2015-03-31</th>\n",
       "      <td>29.689516</td>\n",
       "      <td>22089.00</td>\n",
       "      <td>64185.75</td>\n",
       "    </tr>\n",
       "    <tr>\n",
       "      <th>2015-04-30</th>\n",
       "      <td>29.400694</td>\n",
       "      <td>21168.50</td>\n",
       "      <td>85354.25</td>\n",
       "    </tr>\n",
       "    <tr>\n",
       "      <th>2015-05-31</th>\n",
       "      <td>29.630040</td>\n",
       "      <td>22044.75</td>\n",
       "      <td>107399.00</td>\n",
       "    </tr>\n",
       "  </tbody>\n",
       "</table>\n",
       "</div>"
      ],
      "text/plain": [
       "                speed  distance  cumulative_distance\n",
       "2015-01-31  29.549059  21984.50             21984.50\n",
       "2015-02-28  29.928943  20112.25             42096.75\n",
       "2015-03-31  29.689516  22089.00             64185.75\n",
       "2015-04-30  29.400694  21168.50             85354.25\n",
       "2015-05-31  29.630040  22044.75            107399.00"
      ]
     },
     "execution_count": 10,
     "metadata": {},
     "output_type": "execute_result"
    }
   ],
   "source": [
    "# Resampling\n",
    "weekly_summary = pd.DataFrame()\n",
    "weekly_summary['speed'] = df.speed.resample('M').mean()\n",
    "weekly_summary['distance'] = df.distance.resample('M').sum()\n",
    "weekly_summary['cumulative_distance'] = df.cumulative_distance.resample('M').last()\n",
    "\n",
    "#Select only whole weeks\n",
    "weekly_summary = weekly_summary.truncate(before='2015-01-05', after='2015-12-27')\n",
    "weekly_summary.head()"
   ]
  },
  {
   "cell_type": "code",
   "execution_count": 11,
   "metadata": {
    "scrolled": true
   },
   "outputs": [
    {
     "data": {
      "text/html": [
       "<div>\n",
       "<style scoped>\n",
       "    .dataframe tbody tr th:only-of-type {\n",
       "        vertical-align: middle;\n",
       "    }\n",
       "\n",
       "    .dataframe tbody tr th {\n",
       "        vertical-align: top;\n",
       "    }\n",
       "\n",
       "    .dataframe thead th {\n",
       "        text-align: right;\n",
       "    }\n",
       "</style>\n",
       "<table border=\"1\" class=\"dataframe\">\n",
       "  <thead>\n",
       "    <tr style=\"text-align: right;\">\n",
       "      <th></th>\n",
       "      <th>speed</th>\n",
       "      <th>distance</th>\n",
       "      <th>cumulative_distance</th>\n",
       "    </tr>\n",
       "  </thead>\n",
       "  <tbody>\n",
       "    <tr>\n",
       "      <th>2015-01-31</th>\n",
       "      <td>29.549059</td>\n",
       "      <td>21984.50</td>\n",
       "      <td>21984.50</td>\n",
       "    </tr>\n",
       "    <tr>\n",
       "      <th>2015-02-28</th>\n",
       "      <td>29.928943</td>\n",
       "      <td>20112.25</td>\n",
       "      <td>42096.75</td>\n",
       "    </tr>\n",
       "    <tr>\n",
       "      <th>2015-03-31</th>\n",
       "      <td>29.689516</td>\n",
       "      <td>22089.00</td>\n",
       "      <td>64185.75</td>\n",
       "    </tr>\n",
       "    <tr>\n",
       "      <th>2015-04-30</th>\n",
       "      <td>29.400694</td>\n",
       "      <td>21168.50</td>\n",
       "      <td>85354.25</td>\n",
       "    </tr>\n",
       "    <tr>\n",
       "      <th>2015-05-31</th>\n",
       "      <td>29.630040</td>\n",
       "      <td>22044.75</td>\n",
       "      <td>107399.00</td>\n",
       "    </tr>\n",
       "    <tr>\n",
       "      <th>2015-06-30</th>\n",
       "      <td>29.440972</td>\n",
       "      <td>21197.50</td>\n",
       "      <td>128596.50</td>\n",
       "    </tr>\n",
       "    <tr>\n",
       "      <th>2015-07-31</th>\n",
       "      <td>29.774866</td>\n",
       "      <td>22152.50</td>\n",
       "      <td>150749.00</td>\n",
       "    </tr>\n",
       "    <tr>\n",
       "      <th>2015-08-31</th>\n",
       "      <td>30.054435</td>\n",
       "      <td>22360.50</td>\n",
       "      <td>173109.50</td>\n",
       "    </tr>\n",
       "    <tr>\n",
       "      <th>2015-09-30</th>\n",
       "      <td>29.273958</td>\n",
       "      <td>21077.25</td>\n",
       "      <td>194186.75</td>\n",
       "    </tr>\n",
       "    <tr>\n",
       "      <th>2015-10-31</th>\n",
       "      <td>29.551075</td>\n",
       "      <td>21986.00</td>\n",
       "      <td>216172.75</td>\n",
       "    </tr>\n",
       "    <tr>\n",
       "      <th>2015-11-30</th>\n",
       "      <td>29.562153</td>\n",
       "      <td>21284.75</td>\n",
       "      <td>237457.50</td>\n",
       "    </tr>\n",
       "  </tbody>\n",
       "</table>\n",
       "</div>"
      ],
      "text/plain": [
       "                speed  distance  cumulative_distance\n",
       "2015-01-31  29.549059  21984.50             21984.50\n",
       "2015-02-28  29.928943  20112.25             42096.75\n",
       "2015-03-31  29.689516  22089.00             64185.75\n",
       "2015-04-30  29.400694  21168.50             85354.25\n",
       "2015-05-31  29.630040  22044.75            107399.00\n",
       "2015-06-30  29.440972  21197.50            128596.50\n",
       "2015-07-31  29.774866  22152.50            150749.00\n",
       "2015-08-31  30.054435  22360.50            173109.50\n",
       "2015-09-30  29.273958  21077.25            194186.75\n",
       "2015-10-31  29.551075  21986.00            216172.75\n",
       "2015-11-30  29.562153  21284.75            237457.50"
      ]
     },
     "execution_count": 11,
     "metadata": {},
     "output_type": "execute_result"
    }
   ],
   "source": [
    "weekly_summary"
   ]
  },
  {
   "cell_type": "code",
   "execution_count": 12,
   "metadata": {},
   "outputs": [
    {
     "data": {
      "image/png": "[encoded data removed]",
      "text/plain": [
       "<matplotlib.figure.Figure at 0x1078b9a8f60>"
      ]
     },
     "metadata": {},
     "output_type": "display_data"
    }
   ],
   "source": [
    "#Plotting the resampled stuff\n",
    "fig, ax1 = plt.subplots()\n",
    "\n",
    "ax2 = ax1.twinx()\n",
    "ax1.plot(weekly_summary.index, weekly_summary['speed'], 'g-')\n",
    "ax2.plot(weekly_summary.index, weekly_summary['distance'], 'b-')\n",
    "\n",
    "ax1.set_xlabel('Date')\n",
    "ax1.set_ylabel('Speed', color='g')\n",
    "ax2.set_ylabel('Distance', color='b')\n",
    "\n",
    "plt.show()\n",
    "plt.rcParams['figure.figsize'] = 12,5"
   ]
  },
  {
   "cell_type": "code",
   "execution_count": 13,
   "metadata": {},
   "outputs": [
    {
     "data": {
      "text/html": [
       "<div>\n",
       "<style scoped>\n",
       "    .dataframe tbody tr th:only-of-type {\n",
       "        vertical-align: middle;\n",
       "    }\n",
       "\n",
       "    .dataframe tbody tr th {\n",
       "        vertical-align: top;\n",
       "    }\n",
       "\n",
       "    .dataframe thead th {\n",
       "        text-align: right;\n",
       "    }\n",
       "</style>\n",
       "<table border=\"1\" class=\"dataframe\">\n",
       "  <thead>\n",
       "    <tr style=\"text-align: right;\">\n",
       "      <th></th>\n",
       "      <th>speed</th>\n",
       "      <th>distance</th>\n",
       "      <th>cumulative_distance</th>\n",
       "    </tr>\n",
       "  </thead>\n",
       "  <tbody>\n",
       "    <tr>\n",
       "      <th>2015-01-01</th>\n",
       "      <td>29.597768</td>\n",
       "      <td>1034294</td>\n",
       "      <td>258573.5</td>\n",
       "    </tr>\n",
       "  </tbody>\n",
       "</table>\n",
       "</div>"
      ],
      "text/plain": [
       "                speed  distance  cumulative_distance\n",
       "2015-01-01  29.597768   1034294             258573.5"
      ]
     },
     "execution_count": 13,
     "metadata": {},
     "output_type": "execute_result"
    }
   ],
   "source": [
    "# Seeing the data for one year\n",
    "annual_summary = pd.DataFrame()\n",
    "# AS is year-start frequency\n",
    "annual_summary['speed'] = df.speed.resample('AS').mean()\n",
    "annual_summary['distance'] = df.speed.resample('AS').sum()\n",
    "annual_summary['cumulative_distance'] = df.cumulative_distance.resample('AS').last()\n",
    "annual_summary"
   ]
  },
  {
   "cell_type": "code",
   "execution_count": 14,
   "metadata": {},
   "outputs": [],
   "source": [
    "# Making a new dataframe that adds five mins to the time of the annual year\n",
    "five_minutely_data = pd.DataFrame()\n",
    "five_minutely_data['speed'] = df.speed.resample('5min').ffill()\n",
    "# 5 minutes is 1/12 hours\n",
    "five_minutely_data['distance'] = five_minutely_data['speed'] * (1/float(12))\n",
    "five_minutely_data['cumulative_distance'] = five_minutely_data.distance.cumsum()"
   ]
  },
  {
   "cell_type": "code",
   "execution_count": 15,
   "metadata": {},
   "outputs": [
    {
     "data": {
      "text/html": [
       "<div>\n",
       "<style scoped>\n",
       "    .dataframe tbody tr th:only-of-type {\n",
       "        vertical-align: middle;\n",
       "    }\n",
       "\n",
       "    .dataframe tbody tr th {\n",
       "        vertical-align: top;\n",
       "    }\n",
       "\n",
       "    .dataframe thead th {\n",
       "        text-align: right;\n",
       "    }\n",
       "</style>\n",
       "<table border=\"1\" class=\"dataframe\">\n",
       "  <thead>\n",
       "    <tr style=\"text-align: right;\">\n",
       "      <th></th>\n",
       "      <th>speed</th>\n",
       "      <th>distance</th>\n",
       "      <th>cumulative_distance</th>\n",
       "    </tr>\n",
       "  </thead>\n",
       "  <tbody>\n",
       "    <tr>\n",
       "      <th>2015-01-01 00:00:00</th>\n",
       "      <td>7</td>\n",
       "      <td>0.583333</td>\n",
       "      <td>0.583333</td>\n",
       "    </tr>\n",
       "    <tr>\n",
       "      <th>2015-01-01 00:05:00</th>\n",
       "      <td>7</td>\n",
       "      <td>0.583333</td>\n",
       "      <td>1.166667</td>\n",
       "    </tr>\n",
       "    <tr>\n",
       "      <th>2015-01-01 00:10:00</th>\n",
       "      <td>7</td>\n",
       "      <td>0.583333</td>\n",
       "      <td>1.750000</td>\n",
       "    </tr>\n",
       "    <tr>\n",
       "      <th>2015-01-01 00:15:00</th>\n",
       "      <td>24</td>\n",
       "      <td>2.000000</td>\n",
       "      <td>3.750000</td>\n",
       "    </tr>\n",
       "    <tr>\n",
       "      <th>2015-01-01 00:20:00</th>\n",
       "      <td>24</td>\n",
       "      <td>2.000000</td>\n",
       "      <td>5.750000</td>\n",
       "    </tr>\n",
       "  </tbody>\n",
       "</table>\n",
       "</div>"
      ],
      "text/plain": [
       "                     speed  distance  cumulative_distance\n",
       "2015-01-01 00:00:00      7  0.583333             0.583333\n",
       "2015-01-01 00:05:00      7  0.583333             1.166667\n",
       "2015-01-01 00:10:00      7  0.583333             1.750000\n",
       "2015-01-01 00:15:00     24  2.000000             3.750000\n",
       "2015-01-01 00:20:00     24  2.000000             5.750000"
      ]
     },
     "execution_count": 15,
     "metadata": {},
     "output_type": "execute_result"
    }
   ],
   "source": [
    "five_minutely_data.head()"
   ]
  },
  {
   "cell_type": "code",
   "execution_count": null,
   "metadata": {},
   "outputs": [],
   "source": []
  },
  {
   "cell_type": "code",
   "execution_count": null,
   "metadata": {},
   "outputs": [],
   "source": []
  }
 ],
 "metadata": {
  "kernelspec": {
   "display_name": "Python 3",
   "language": "python",
   "name": "python3"
  },
  "language_info": {
   "codemirror_mode": {
    "name": "ipython",
    "version": 3
   },
   "file_extension": ".py",
   "mimetype": "text/x-python",
   "name": "python",
   "nbconvert_exporter": "python",
   "pygments_lexer": "ipython3",
   "version": "3.6.4"
  }
 },
 "nbformat": 4,
 "nbformat_minor": 2
}
