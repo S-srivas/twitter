{
 "cells": [
  {
   "cell_type": "code",
   "execution_count": 1,
   "metadata": {},
   "outputs": [],
   "source": [
    "# Importation\n",
    "import pandas as pd\n",
    "import numpy as np\n",
    "import datetime as dt\n",
    "from datetime import date\n",
    "import matplotlib.pyplot as plt"
   ]
  },
  {
   "cell_type": "code",
   "execution_count": 2,
   "metadata": {},
   "outputs": [
    {
     "data": {
      "text/html": [
       "<div>\n",
       "<style scoped>\n",
       "    .dataframe tbody tr th:only-of-type {\n",
       "        vertical-align: middle;\n",
       "    }\n",
       "\n",
       "    .dataframe tbody tr th {\n",
       "        vertical-align: top;\n",
       "    }\n",
       "\n",
       "    .dataframe thead th {\n",
       "        text-align: right;\n",
       "    }\n",
       "</style>\n",
       "<table border=\"1\" class=\"dataframe\">\n",
       "  <thead>\n",
       "    <tr style=\"text-align: right;\">\n",
       "      <th></th>\n",
       "      <th>tweet_id</th>\n",
       "      <th>airline_sentiment</th>\n",
       "      <th>airline_sentiment_confidence</th>\n",
       "      <th>negativereason</th>\n",
       "      <th>negativereason_confidence</th>\n",
       "      <th>airline</th>\n",
       "      <th>airline_sentiment_gold</th>\n",
       "      <th>name</th>\n",
       "      <th>negativereason_gold</th>\n",
       "      <th>retweet_count</th>\n",
       "      <th>text</th>\n",
       "      <th>tweet_coord</th>\n",
       "      <th>tweet_created</th>\n",
       "      <th>tweet_location</th>\n",
       "      <th>user_timezone</th>\n",
       "    </tr>\n",
       "  </thead>\n",
       "  <tbody>\n",
       "    <tr>\n",
       "      <th>0</th>\n",
       "      <td>5.703061e+17</td>\n",
       "      <td>neutral</td>\n",
       "      <td>1.0000</td>\n",
       "      <td>NaN</td>\n",
       "      <td>NaN</td>\n",
       "      <td>Virgin America</td>\n",
       "      <td>NaN</td>\n",
       "      <td>cairdin</td>\n",
       "      <td>NaN</td>\n",
       "      <td>0</td>\n",
       "      <td>@VirginAmerica What @dhepburn said.</td>\n",
       "      <td>NaN</td>\n",
       "      <td>2015-02-24 19:35:52</td>\n",
       "      <td>NaN</td>\n",
       "      <td>Eastern Time (US &amp; Canada)</td>\n",
       "    </tr>\n",
       "    <tr>\n",
       "      <th>1</th>\n",
       "      <td>5.703011e+17</td>\n",
       "      <td>positive</td>\n",
       "      <td>0.3486</td>\n",
       "      <td>NaN</td>\n",
       "      <td>0.0000</td>\n",
       "      <td>Virgin America</td>\n",
       "      <td>NaN</td>\n",
       "      <td>jnardino</td>\n",
       "      <td>NaN</td>\n",
       "      <td>0</td>\n",
       "      <td>@VirginAmerica plus you've added commercials t...</td>\n",
       "      <td>NaN</td>\n",
       "      <td>2015-02-24 19:15:59</td>\n",
       "      <td>NaN</td>\n",
       "      <td>Pacific Time (US &amp; Canada)</td>\n",
       "    </tr>\n",
       "    <tr>\n",
       "      <th>2</th>\n",
       "      <td>5.703011e+17</td>\n",
       "      <td>neutral</td>\n",
       "      <td>0.6837</td>\n",
       "      <td>NaN</td>\n",
       "      <td>NaN</td>\n",
       "      <td>Virgin America</td>\n",
       "      <td>NaN</td>\n",
       "      <td>yvonnalynn</td>\n",
       "      <td>NaN</td>\n",
       "      <td>0</td>\n",
       "      <td>@VirginAmerica I didn't today... Must mean I n...</td>\n",
       "      <td>NaN</td>\n",
       "      <td>2015-02-24 19:15:48</td>\n",
       "      <td>Lets Play</td>\n",
       "      <td>Central Time (US &amp; Canada)</td>\n",
       "    </tr>\n",
       "    <tr>\n",
       "      <th>3</th>\n",
       "      <td>5.703010e+17</td>\n",
       "      <td>negative</td>\n",
       "      <td>1.0000</td>\n",
       "      <td>Bad Flight</td>\n",
       "      <td>0.7033</td>\n",
       "      <td>Virgin America</td>\n",
       "      <td>NaN</td>\n",
       "      <td>jnardino</td>\n",
       "      <td>NaN</td>\n",
       "      <td>0</td>\n",
       "      <td>@VirginAmerica it's really aggressive to blast...</td>\n",
       "      <td>NaN</td>\n",
       "      <td>2015-02-24 19:15:36</td>\n",
       "      <td>NaN</td>\n",
       "      <td>Pacific Time (US &amp; Canada)</td>\n",
       "    </tr>\n",
       "    <tr>\n",
       "      <th>4</th>\n",
       "      <td>5.703008e+17</td>\n",
       "      <td>negative</td>\n",
       "      <td>1.0000</td>\n",
       "      <td>Can't Tell</td>\n",
       "      <td>1.0000</td>\n",
       "      <td>Virgin America</td>\n",
       "      <td>NaN</td>\n",
       "      <td>jnardino</td>\n",
       "      <td>NaN</td>\n",
       "      <td>0</td>\n",
       "      <td>@VirginAmerica and it's a really big bad thing...</td>\n",
       "      <td>NaN</td>\n",
       "      <td>2015-02-24 19:14:45</td>\n",
       "      <td>NaN</td>\n",
       "      <td>Pacific Time (US &amp; Canada)</td>\n",
       "    </tr>\n",
       "  </tbody>\n",
       "</table>\n",
       "</div>"
      ],
      "text/plain": [
       "       tweet_id airline_sentiment  airline_sentiment_confidence  \\\n",
       "0  5.703061e+17           neutral                        1.0000   \n",
       "1  5.703011e+17          positive                        0.3486   \n",
       "2  5.703011e+17           neutral                        0.6837   \n",
       "3  5.703010e+17          negative                        1.0000   \n",
       "4  5.703008e+17          negative                        1.0000   \n",
       "\n",
       "  negativereason  negativereason_confidence         airline  \\\n",
       "0            NaN                        NaN  Virgin America   \n",
       "1            NaN                     0.0000  Virgin America   \n",
       "2            NaN                        NaN  Virgin America   \n",
       "3     Bad Flight                     0.7033  Virgin America   \n",
       "4     Can't Tell                     1.0000  Virgin America   \n",
       "\n",
       "  airline_sentiment_gold        name negativereason_gold  retweet_count  \\\n",
       "0                    NaN     cairdin                 NaN              0   \n",
       "1                    NaN    jnardino                 NaN              0   \n",
       "2                    NaN  yvonnalynn                 NaN              0   \n",
       "3                    NaN    jnardino                 NaN              0   \n",
       "4                    NaN    jnardino                 NaN              0   \n",
       "\n",
       "                                                text tweet_coord  \\\n",
       "0                @VirginAmerica What @dhepburn said.         NaN   \n",
       "1  @VirginAmerica plus you've added commercials t...         NaN   \n",
       "2  @VirginAmerica I didn't today... Must mean I n...         NaN   \n",
       "3  @VirginAmerica it's really aggressive to blast...         NaN   \n",
       "4  @VirginAmerica and it's a really big bad thing...         NaN   \n",
       "\n",
       "        tweet_created tweet_location               user_timezone  \n",
       "0 2015-02-24 19:35:52            NaN  Eastern Time (US & Canada)  \n",
       "1 2015-02-24 19:15:59            NaN  Pacific Time (US & Canada)  \n",
       "2 2015-02-24 19:15:48      Lets Play  Central Time (US & Canada)  \n",
       "3 2015-02-24 19:15:36            NaN  Pacific Time (US & Canada)  \n",
       "4 2015-02-24 19:14:45            NaN  Pacific Time (US & Canada)  "
      ]
     },
     "execution_count": 2,
     "metadata": {},
     "output_type": "execute_result"
    }
   ],
   "source": [
    "# Read file\n",
    "data = pd.read_csv('data/tweets.csv', parse_dates=['tweet_created'])\n",
    "data.head()"
   ]
  },
  {
   "cell_type": "code",
   "execution_count": 3,
   "metadata": {},
   "outputs": [
    {
     "name": "stdout",
     "output_type": "stream",
     "text": [
      "<class 'pandas.core.frame.DataFrame'>\n",
      "RangeIndex: 14640 entries, 0 to 14639\n",
      "Data columns (total 15 columns):\n",
      "tweet_id                        14640 non-null float64\n",
      "airline_sentiment               14640 non-null object\n",
      "airline_sentiment_confidence    14640 non-null float64\n",
      "negativereason                  9178 non-null object\n",
      "negativereason_confidence       10522 non-null float64\n",
      "airline                         14640 non-null object\n",
      "airline_sentiment_gold          40 non-null object\n",
      "name                            14640 non-null object\n",
      "negativereason_gold             32 non-null object\n",
      "retweet_count                   14640 non-null int64\n",
      "text                            14640 non-null object\n",
      "tweet_coord                     1019 non-null object\n",
      "tweet_created                   14640 non-null datetime64[ns]\n",
      "tweet_location                  9907 non-null object\n",
      "user_timezone                   9820 non-null object\n",
      "dtypes: datetime64[ns](1), float64(3), int64(1), object(10)\n",
      "memory usage: 1.7+ MB\n"
     ]
    }
   ],
   "source": [
    "# Just getting the overview\n",
    "data.info()"
   ]
  },
  {
   "cell_type": "code",
   "execution_count": 4,
   "metadata": {},
   "outputs": [],
   "source": [
    "# Dropping columns\n",
    "cols = ['tweet_id','airline_sentiment_confidence','negativereason','negativereason_confidence','airline_sentiment_gold','name','negativereason_gold','tweet_coord','tweet_location']\n",
    "#cols = ['tweet_id','airline_sentiment_confidence','negativereason','negativereason_confidence','airline','airline_sentiment_gold','name','negativereason_gold','retweet_count','text','tweet_coord','tweet_location','user_timezone']\n",
    "data.drop(cols, axis= 1, inplace=True)"
   ]
  },
  {
   "cell_type": "code",
   "execution_count": 9,
   "metadata": {},
   "outputs": [
    {
     "data": {
      "text/plain": [
       "DatetimeIndex(['2015-02-17 07:36:05', '2015-02-17 07:43:02',\n",
       "               '2015-02-17 07:48:48', '2015-02-17 07:52:20',\n",
       "               '2015-02-17 08:00:36', '2015-02-17 08:01:07',\n",
       "               '2015-02-17 08:05:27', '2015-02-17 09:18:29',\n",
       "               '2015-02-17 09:30:32', '2015-02-17 09:32:09',\n",
       "               ...\n",
       "               '2015-02-24 19:45:20', '2015-02-24 19:46:28',\n",
       "               '2015-02-24 19:47:16', '2015-02-24 19:47:50',\n",
       "               '2015-02-24 19:47:53', '2015-02-24 19:48:29',\n",
       "               '2015-02-24 19:48:37', '2015-02-24 19:48:38',\n",
       "               '2015-02-24 19:51:48', '2015-02-24 19:53:37'],\n",
       "              dtype='datetime64[ns]', name='tweet_created', length=14247, freq=None)"
      ]
     },
     "execution_count": 9,
     "metadata": {},
     "output_type": "execute_result"
    }
   ],
   "source": [
    "# Grouping the tweets by their dates and showing the retweet counts\n",
    "df = data.groupby('tweet_created')['retweet_count'].sum().reset_index()\n",
    "df = df.set_index('tweet_created')\n",
    "df.index"
   ]
  },
  {
   "cell_type": "code",
   "execution_count": 10,
   "metadata": {
    "scrolled": false
   },
   "outputs": [
    {
     "name": "stdout",
     "output_type": "stream",
     "text": [
      "                     retweet_count  Growth\n",
      "tweet_created                             \n",
      "2015-02-17 07:36:05              0     NaN\n",
      "2015-02-17 07:43:02              0     NaN\n",
      "2015-02-17 07:48:48              0     NaN\n",
      "2015-02-17 07:52:20              0     NaN\n",
      "2015-02-17 08:00:36              0     NaN\n",
      "2015-02-17 08:01:07              0     NaN\n",
      "2015-02-17 08:05:27              0     NaN\n",
      "2015-02-17 09:18:29              0     NaN\n",
      "2015-02-17 09:30:32              0     NaN\n",
      "2015-02-17 09:32:09              0     NaN\n",
      "2015-02-17 09:54:53              0     NaN\n",
      "2015-02-17 10:10:58              0     NaN\n",
      "2015-02-17 10:23:03              0     NaN\n",
      "2015-02-17 10:38:11              0     NaN\n",
      "2015-02-17 11:14:32              0     NaN\n",
      "2015-02-17 12:03:09              0     NaN\n",
      "2015-02-17 12:33:32              0     NaN\n",
      "2015-02-17 12:35:00              0     NaN\n",
      "2015-02-17 12:50:05              0     NaN\n",
      "2015-02-17 13:04:44              0     NaN\n",
      "2015-02-17 13:07:11              0     NaN\n",
      "2015-02-17 13:26:15              0     NaN\n",
      "2015-02-17 13:27:09              0     NaN\n",
      "2015-02-17 13:38:31              0     NaN\n",
      "2015-02-17 13:40:59              0     NaN\n",
      "2015-02-17 14:07:25              0     NaN\n",
      "2015-02-17 14:07:45              0     NaN\n",
      "2015-02-17 14:13:38              0     NaN\n",
      "2015-02-17 14:13:59              0     NaN\n",
      "2015-02-17 14:21:57              0     NaN\n",
      "...                            ...     ...\n",
      "2015-02-24 19:37:58              0     NaN\n",
      "2015-02-24 19:38:11              0     NaN\n",
      "2015-02-24 19:38:15              0     NaN\n",
      "2015-02-24 19:38:47              0     NaN\n",
      "2015-02-24 19:39:22              0     NaN\n",
      "2015-02-24 19:39:25              0     NaN\n",
      "2015-02-24 19:39:45              0     NaN\n",
      "2015-02-24 19:40:33              0     NaN\n",
      "2015-02-24 19:40:47              0     NaN\n",
      "2015-02-24 19:40:52              0     NaN\n",
      "2015-02-24 19:41:02              0     NaN\n",
      "2015-02-24 19:41:43              0     NaN\n",
      "2015-02-24 19:41:45              0     NaN\n",
      "2015-02-24 19:42:34              0     NaN\n",
      "2015-02-24 19:42:41              0     NaN\n",
      "2015-02-24 19:42:48              0     NaN\n",
      "2015-02-24 19:43:05              0     NaN\n",
      "2015-02-24 19:43:32              0     NaN\n",
      "2015-02-24 19:43:55              0     NaN\n",
      "2015-02-24 19:44:31              0     NaN\n",
      "2015-02-24 19:45:20              0     NaN\n",
      "2015-02-24 19:46:28              0     NaN\n",
      "2015-02-24 19:47:16              0     NaN\n",
      "2015-02-24 19:47:50              0     NaN\n",
      "2015-02-24 19:47:53              0     NaN\n",
      "2015-02-24 19:48:29              0     NaN\n",
      "2015-02-24 19:48:37              0     NaN\n",
      "2015-02-24 19:48:38              0     NaN\n",
      "2015-02-24 19:51:48              0     NaN\n",
      "2015-02-24 19:53:37              0     NaN\n",
      "\n",
      "[14247 rows x 2 columns]\n"
     ]
    }
   ],
   "source": [
    "# Finding the percent growth of the columns\n",
    "df['Growth'] = df.retweet_count.pct_change().mul(100).round(2)\n",
    "print (df)"
   ]
  },
  {
   "cell_type": "code",
   "execution_count": 11,
   "metadata": {
    "scrolled": true
   },
   "outputs": [],
   "source": [
    "# Grouping the Growth column to the same date\n",
    "df = df.groupby(['tweet_created'], as_index=True)['Growth'].sum()"
   ]
  },
  {
   "cell_type": "code",
   "execution_count": 12,
   "metadata": {
    "scrolled": true
   },
   "outputs": [
    {
     "data": {
      "text/plain": [
       "[<matplotlib.lines.Line2D at 0x1f18ac12fd0>]"
      ]
     },
     "execution_count": 12,
     "metadata": {},
     "output_type": "execute_result"
    },
    {
     "data": {
      "image/png": "[encoded data removed]",
      "text/plain": [
       "<matplotlib.figure.Figure at 0x1f18aa763c8>"
      ]
     },
     "metadata": {},
     "output_type": "display_data"
    }
   ],
   "source": [
    "# Plotting the grouping\n",
    "plt.plot(df)"
   ]
  },
  {
   "cell_type": "code",
   "execution_count": null,
   "metadata": {},
   "outputs": [],
   "source": []
  }
 ],
 "metadata": {
  "kernelspec": {
   "display_name": "Python 3",
   "language": "python",
   "name": "python3"
  },
  "language_info": {
   "codemirror_mode": {
    "name": "ipython",
    "version": 3
   },
   "file_extension": ".py",
   "mimetype": "text/x-python",
   "name": "python",
   "nbconvert_exporter": "python",
   "pygments_lexer": "ipython3",
   "version": "3.8.3"
  }
 },
 "nbformat": 4,
 "nbformat_minor": 2
}
